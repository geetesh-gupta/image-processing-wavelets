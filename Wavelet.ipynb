{
 "metadata": {
  "language_info": {
   "codemirror_mode": {
    "name": "ipython",
    "version": 3
   },
   "file_extension": ".py",
   "mimetype": "text/x-python",
   "name": "python",
   "nbconvert_exporter": "python",
   "pygments_lexer": "ipython3",
   "version": "3.9.0-final"
  },
  "orig_nbformat": 2,
  "kernelspec": {
   "name": "python3",
   "display_name": "Python 3.9.0 64-bit ('Wavelets Assignment': pipenv)",
   "metadata": {
    "interpreter": {
     "hash": "228a5d5161365de29b4505a4f414967bd025428109d7a18a511211455f2141dd"
    }
   }
  }
 },
 "nbformat": 4,
 "nbformat_minor": 2,
 "cells": [
  {
   "cell_type": "code",
   "execution_count": 257,
   "metadata": {},
   "outputs": [],
   "source": [
    "import cv2 \n",
    "import numpy as np\n",
    "from math import sqrt"
   ]
  },
  {
   "cell_type": "code",
   "execution_count": 258,
   "metadata": {},
   "outputs": [],
   "source": [
    "def processImage(image):\n",
    "    image = cv2.imread(image) \n",
    "    image = cv2.resize(image,(512,512))\n",
    "    image = cv2.cvtColor(src=image, code=cv2.COLOR_BGR2GRAY) \n",
    "    return image"
   ]
  },
  {
   "cell_type": "code",
   "execution_count": 259,
   "metadata": {},
   "outputs": [],
   "source": [
    "def convolve2D(image, kernel, padding=0, strides=1):\n",
    "    kernel = np.flipud(np.fliplr(kernel))   # Cross Correlation\n",
    "\n",
    "    # Gather Shapes of Kernel + Image + Padding\n",
    "    kernelCols = kernel.shape[0]\n",
    "    kernelRows = kernel.shape[1]\n",
    "    imageCols = image.shape[0]\n",
    "    imageRows = image.shape[1]\n",
    "\n",
    "    # Shape of Output Convolution\n",
    "    xOutput = int(((imageCols - kernelCols + 2 * padding) / strides) + 1)\n",
    "    yOutput = int(((imageRows - kernelRows + 2 * padding) / strides) + 1)\n",
    "    output = np.zeros((xOutput, yOutput))\n",
    "\n",
    "    # Apply Equal Padding to All Sides\n",
    "    if padding != 0:\n",
    "        imagePadded = np.zeros((image.shape[0] + padding*2, image.shape[1] + padding*2))\n",
    "        imagePadded[int(padding):int(-1 * padding), int(padding):int(-1 * padding)] = image\n",
    "    else:\n",
    "        imagePadded = image\n",
    "\n",
    "    for y in range(image.shape[1]):\n",
    "        if y > image.shape[1] - kernelRows:\n",
    "            break\n",
    "        if y % strides == 0:\n",
    "            for x in range(image.shape[0]):\n",
    "                if x > image.shape[0] - kernelCols:\n",
    "                    break\n",
    "                if x % strides == 0:\n",
    "                    output[x, y] = (kernel * imagePadded[x: x + kernelCols, y: y + kernelRows]).sum()\n",
    "    return output"
   ]
  },
  {
   "cell_type": "code",
   "execution_count": 260,
   "metadata": {},
   "outputs": [],
   "source": [
    "def downsampleImage(image, rowScale=1, colScale=1):\n",
    "    numRows = image.shape[1]\n",
    "    numCols = image.shape[0]\n",
    "    outputNumRows = int(numRows / rowScale)\n",
    "    outputNumCols = int(numCols / colScale)\n",
    "    output = np.zeros((outputNumCols, outputNumRows))\n",
    "    for i in range(outputNumRows):\n",
    "        for j in range(outputNumCols):\n",
    "            output[j][i] = image[j*colScale][i*rowScale]\n",
    "    return output"
   ]
  },
  {
   "cell_type": "code",
   "execution_count": 261,
   "metadata": {},
   "outputs": [],
   "source": [
    "def upsampleImage(image, rowScale=1, colScale=1):\n",
    "    numRows = image.shape[1]\n",
    "    numCols = image.shape[0]\n",
    "    outputNumRows = int(numRows * rowScale)\n",
    "    outputNumCols = int(numCols * colScale)\n",
    "    output = np.zeros((outputNumCols, outputNumRows))\n",
    "    for i in range(numRows):\n",
    "        for j in range(numCols):\n",
    "            output[j*colScale][i*rowScale] = image[j][i]\n",
    "    return output"
   ]
  },
  {
   "cell_type": "code",
   "execution_count": 262,
   "metadata": {},
   "outputs": [],
   "source": [
    "def convoluteAndDownsample(image, filterr, rowScale=1, colScale=1):\n",
    "    convolutedImage = convolve2D(image, filterr)\n",
    "    downsampledImage = downsampleImage(convolutedImage, rowScale, colScale)\n",
    "    return downsampledImage"
   ]
  },
  {
   "cell_type": "code",
   "execution_count": 263,
   "metadata": {},
   "outputs": [],
   "source": [
    "def upsampleAndConvolute(image, filterr, rowScale=1, colScale=1):\n",
    "    upsampledImage = upsampleImage(image, rowScale, colScale)\n",
    "    convolutedImage = convolve2D(upsampledImage, filterr)\n",
    "    return convolutedImage"
   ]
  },
  {
   "cell_type": "code",
   "execution_count": 264,
   "metadata": {},
   "outputs": [],
   "source": [
    "def decomposeImage(image, lpf, hpf):\n",
    "    # Rowwise Convolution and Downsampling\n",
    "    L = convoluteAndDownsample(image, lpf, 1, 2)\n",
    "    H = convoluteAndDownsample(image, hpf, 1, 2)\n",
    "\n",
    "    # Columnwise Convolution and Downsampling for each\n",
    "    LL = convoluteAndDownsample(L, lpf.T, 2)\n",
    "    LH = convoluteAndDownsample(L, hpf.T, 2)\n",
    "    HL = convoluteAndDownsample(H, lpf.T, 2)\n",
    "    HH = convoluteAndDownsample(H, hpf.T, 2)\n",
    "\n",
    "    return [LL, LH, HL, HH]"
   ]
  },
  {
   "cell_type": "code",
   "execution_count": 265,
   "metadata": {},
   "outputs": [],
   "source": [
    "def reconstructImage(image, lpf, hpf, coeffs):\n",
    "    LL, LH, HL, HH = coeffs\n",
    "\n",
    "    # Columnwise Downsampling and Convolution for each\n",
    "    LLr = upsampleAndConvolute(LL, lpf.T, 1, 2)\n",
    "    LHr = upsampleAndConvolute(LH, hpf.T, 1, 2)\n",
    "    HLr = upsampleAndConvolute(HL, lpf.T, 1, 2)\n",
    "    HHr = upsampleAndConvolute(HH, hpf.T, 1, 2)\n",
    "\n",
    "    cv2.imwrite('custom_output/LLr.jpg', LLr)\n",
    "    cv2.imwrite('custom_output/LHr.jpg', LHr)\n",
    "    cv2.imwrite('custom_output/HLr.jpg', HLr)\n",
    "    cv2.imwrite('custom_output/HHr.jpg', HHr)\n",
    "    \n",
    "    # Rowwise Downsampling and Convolution\n",
    "    Lr = np.add(LLr, LHr)\n",
    "    Hr = np.add(HLr, HHr)\n",
    "    \n",
    "    cv2.imwrite('custom_output/Lr.jpg', Lr)\n",
    "    cv2.imwrite('custom_output/Hr.jpg', Hr)\n",
    "\n",
    "    Lrr = upsampleAndConvolute(Lr, lpf, 2)\n",
    "    Hrr = upsampleAndConvolute(Hr, hpf, 2)\n",
    "    \n",
    "    cv2.imwrite('custom_output/Lrr.jpg', Lrr)\n",
    "    cv2.imwrite('custom_output/Hrr.jpg', Hrr)\n",
    "    \n",
    "    reconstructedImage = np.add(Lrr, Hrr)\n",
    "    return reconstructedImage"
   ]
  },
  {
   "cell_type": "code",
   "execution_count": 266,
   "metadata": {},
   "outputs": [],
   "source": [
    "\n",
    "def dwt1(image):\n",
    "    filterVal = 1/sqrt(2)\n",
    "    lpf = np.array([[filterVal, filterVal]])\n",
    "    hpf = np.array([[-filterVal, filterVal]])\n",
    "\n",
    "    return decomposeImage(image, lpf, hpf)\n"
   ]
  },
  {
   "cell_type": "code",
   "execution_count": 267,
   "metadata": {},
   "outputs": [],
   "source": [
    "\n",
    "def dwt2(image):\n",
    "    lpf = np.array([[-0.12940952255092145, 0.22414386804185735, 0.836516303737469, 0.48296291314469025]])\n",
    "    hpf = np.array([[-0.48296291314469025, 0.836516303737469, -0.22414386804185735, -0.12940952255092145]])\n",
    "\n",
    "    return decomposeImage(image, lpf, hpf)\n"
   ]
  },
  {
   "cell_type": "code",
   "execution_count": 268,
   "metadata": {},
   "outputs": [],
   "source": [
    "\n",
    "def idwt2(image, coeffs):\n",
    "    lpf = np.array([[0.48296291314469025, 0.836516303737469, 0.22414386804185735, -0.12940952255092145]])\n",
    "    hpf = np.array([[-0.12940952255092145, -0.22414386804185735, 0.836516303737469, -0.48296291314469025]])\n",
    "\n",
    "    return reconstructImage(image, lpf, hpf, coeffs)\n"
   ]
  },
  {
   "cell_type": "code",
   "execution_count": 269,
   "metadata": {},
   "outputs": [],
   "source": [
    "def getResultsFromInbuiltLibrary(image):\n",
    "    import pywt\n",
    "    coeffs = pywt.dwt2(image, 'db2')\n",
    "    cA, (cH, cV, cD) = coeffs\n",
    "\n",
    "    cv2.imwrite(\"lib_output/LL.jpg\",cA)\n",
    "    cv2.imwrite(\"lib_output/LH.jpg\",cH)\n",
    "    cv2.imwrite(\"lib_output/HL.jpg\",cV)\n",
    "    cv2.imwrite(\"lib_output/HH.jpg\",cD)\n",
    "\n",
    "    return coeffs"
   ]
  },
  {
   "cell_type": "code",
   "execution_count": 270,
   "metadata": {},
   "outputs": [],
   "source": [
    "def getResultsFromCustomFunction(image):\n",
    "    coeffs = dwt2(image)\n",
    "    LL, LH, HL, HH = coeffs\n",
    "    reconstructedImage = idwt2(image, coeffs)\n",
    "\n",
    "    cv2.imwrite('custom_output/LL.jpg', LL)\n",
    "    cv2.imwrite('custom_output/LH.jpg', LH)\n",
    "    cv2.imwrite('custom_output/HL.jpg', HL)\n",
    "    cv2.imwrite('custom_output/HH.jpg', HH)\n",
    "    cv2.imwrite('custom_output/reconstructedImage.jpg', reconstructedImage)"
   ]
  },
  {
   "cell_type": "code",
   "execution_count": 271,
   "metadata": {},
   "outputs": [
    {
     "output_type": "stream",
     "name": "stdout",
     "text": [
      "(256, 509)\n",
      "(256, 509)\n",
      "(253, 254)\n",
      "(253, 254)\n",
      "(253, 254)\n",
      "(253, 254)\n",
      "(506, 254)\n",
      "(506, 254)\n",
      "(506, 254)\n",
      "(506, 254)\n",
      "(503, 508)\n",
      "(503, 508)\n"
     ]
    }
   ],
   "source": [
    "image = processImage('sheldon.png')\n",
    "getResultsFromInbuiltLibrary(image)\n",
    "getResultsFromCustomFunction(image)"
   ]
  }
 ]
}